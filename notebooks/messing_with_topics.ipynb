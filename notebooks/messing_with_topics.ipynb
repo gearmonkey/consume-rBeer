{
 "cells": [
  {
   "cell_type": "markdown",
   "metadata": {},
   "source": [
    "Basic workflow with some models\n",
    "-----------------------------\n",
    "Assumes recs/build_models.py has run"
   ]
  },
  {
   "cell_type": "code",
   "execution_count": 10,
   "metadata": {
    "collapsed": false
   },
   "outputs": [],
   "source": [
    "import cPickle\n",
    "import sqlite3\n",
    "\n",
    "from nltk.corpus import stopwords\n",
    "from gensim import corpora, models, similarities\n",
    "\n",
    "beerwords = corpora.Dictionary.load('beerwords.dict')\n",
    "with open('corpus.pickle') as rh:\n",
    "    corpus = cPickle.load(rh)\n",
    "lda = models.LdaModel.load('lda.pickle')"
   ]
  },
  {
   "cell_type": "code",
   "execution_count": 40,
   "metadata": {
    "collapsed": false
   },
   "outputs": [],
   "source": [
    "from nltk.corpus import stopwords\n",
    "custom_stopwords = stopwords.words('English') + [u'beer', u'one', u'like', u'well', u'really', u'very', u'it\\x92s', u'it', u'beers',u'would',u'taste',u'tastes',u'get',u'i\\x92m',u'quite',u'bit',u'much',u'good',u'better',u'think',u'first',u'new',u'try']"
   ]
  },
  {
   "cell_type": "code",
   "execution_count": 11,
   "metadata": {
    "collapsed": true
   },
   "outputs": [],
   "source": [
    "conn = sqlite3.connect('../src/rbeer.db')\n",
    "cur = conn.cursor()"
   ]
  },
  {
   "cell_type": "markdown",
   "metadata": {},
   "source": [
    "Set up our ratebeer id to corpus id and vice versa maps, for convienance "
   ]
  },
  {
   "cell_type": "code",
   "execution_count": 12,
   "metadata": {
    "collapsed": true
   },
   "outputs": [],
   "source": [
    "cur.execute('select id, name, brewery, total_ratings from beer')\n",
    "raw_map = list(enumerate(cur.fetchall()))\n",
    "corpus2ratebeer = dict(raw_map)\n",
    "ratebeer2corpus = {}\n",
    "for corpus_id, (rb_id, name, brewery, total_ratings) in raw_map:\n",
    "    ratebeer2corpus[rb_id] = (corpus_id, name, brewery, total_ratings)"
   ]
  },
  {
   "cell_type": "markdown",
   "metadata": {},
   "source": [
    "grab corpus ids from rb id and confirm basic metadata"
   ]
  },
  {
   "cell_type": "code",
   "execution_count": 13,
   "metadata": {
    "collapsed": false
   },
   "outputs": [
    {
     "name": "stdout",
     "output_type": "stream",
     "text": [
      "(278947, u'Lord Hobo Boom Sauce', 23213, 36)\n",
      "(267, u'Miller Lite', 75, 1955)\n",
      "(85472, u'The Kernel Export Stout London 1890', 11493, 94)\n"
     ]
    }
   ],
   "source": [
    "print ratebeer2corpus[346645]\n",
    "print ratebeer2corpus[403]\n",
    "print ratebeer2corpus[126190]"
   ]
  },
  {
   "cell_type": "markdown",
   "metadata": {},
   "source": [
    "poking at Miller Lite\n",
    "--------------------\n",
    "grab ml's top topics and print them without stopwords\n",
    "_note that various domain specific terms should probably get added to hte "
   ]
  },
  {
   "cell_type": "code",
   "execution_count": 14,
   "metadata": {
    "collapsed": true
   },
   "outputs": [],
   "source": [
    "ml_topics = lda[corpus[267]]\n"
   ]
  },
  {
   "cell_type": "code",
   "execution_count": 41,
   "metadata": {
    "collapsed": false
   },
   "outputs": [
    {
     "name": "stdout",
     "output_type": "stream",
     "text": [
      "probability: 0.440255523677\n",
      "---\n",
      "[(u'aroma', 0.0036796140866315443), (u'brew', 0.0034339150543508459), (u'light', 0.002881934064116866), (u'see', 0.0025706243002519614), (u'time', 0.0024796246442201613)]\n",
      "============\n",
      "probability: 0.207320486751\n",
      "---\n",
      "[(u'light', 0.033252194302523727), (u'watery', 0.023075220016330188), (u'clear', 0.02149353958946678), (u'aroma', 0.01733737244267429), (u'thin', 0.016744364050831441)]\n",
      "============\n",
      "probability: 0.0974762830548\n",
      "---\n",
      "[(u'sweet', 0.0089312753667533506), (u'weird', 0.0075331675655722205), (u'smells', 0.007350843071399501), (u'interesting', 0.0062618700350888868), (u'aroma', 0.0060045803194838264)]\n",
      "============\n",
      "probability: 0.0478657025998\n",
      "---\n",
      "[(u'little', 0.0076535695319588622), (u'bitterness', 0.0067082384178326245), (u'character', 0.0053778656717797003), (u'flavour', 0.0050577612993526902), (u'though', 0.0048262271158057016)]\n",
      "============\n",
      "probability: 0.0355497324564\n",
      "---\n",
      "[(u'easy', 0.06262905501754816), (u'refreshing', 0.042779998212466169), (u'drink', 0.033802444997406159), (u'summer', 0.03002910057537982), (u'drinking', 0.029502190127092778)]\n",
      "============\n",
      "probability: 0.0289434827729\n",
      "---\n",
      "[(u'great', 0.011683925104252221), (u'nice', 0.0083520966000093354), (u'head', 0.0055946200345227855), (u'big', 0.0050587525068146906), (u'balanced', 0.0049008093628144745)]\n",
      "============\n",
      "probability: 0.0272316893302\n",
      "---\n",
      "[(u'bottle', 0.022911812730083254), (u'aroma', 0.018689064314781012), (u'buddy', 0.018317389206863745), (u'&#045;&#045;-rated', 0.017868285304643416), (u'iphone', 0.01775380075162402)]\n",
      "============\n",
      "probability: 0.0244590815946\n",
      "---\n",
      "[(u'canned', 0.01202042269232558), (u'head', 0.0095226543841732542), (u'16oz', 0.007963119703356978), (u'light', 0.0067907801457725118), (u'aroma', 0.0065175961020773653)]\n",
      "============\n",
      "probability: 0.014856373077\n",
      "---\n",
      "[(u'light', 0.026084997152189454), (u'white', 0.025062761026341227), (u'grassy', 0.022491779583177302), (u'head', 0.019952381224299921), (u'golden', 0.018316517698170273)]\n",
      "============\n"
     ]
    }
   ],
   "source": [
    "for topic, prob in sorted(ml_topics, key = lambda x:x[1], reverse=True)[:10]:\n",
    "    print \"probability:\", prob\n",
    "    print \"---\"\n",
    "    print filter(lambda x:x[0] not in custom_stopwords, map(lambda x:(beerwords[x[0]], x[1]),lda.get_topic_terms(topic, topn=100)))[:5]\n",
    "    print \"============\""
   ]
  },
  {
   "cell_type": "code",
   "execution_count": 43,
   "metadata": {
    "collapsed": false
   },
   "outputs": [
    {
     "name": "stdout",
     "output_type": "stream",
     "text": [
      "boom sauce\n",
      "probability: 0.134785153237\n",
      "---\n",
      "[(u'medium', 0.017261363255937304), (u'head', 0.016130358602022825), (u'sweet', 0.014575517379677126), (u'finish', 0.013833736935477271), (u'moderate', 0.012900082538027885)]\n",
      "============\n",
      "boom sauce\n",
      "probability: 0.122412015468\n",
      "---\n",
      "[(u'hops', 0.039841390013580016), (u'hop', 0.028569080307421515), (u'ipa', 0.026958739789170121), (u'citrus', 0.021109327489142231), (u'bitter', 0.018551288738626572)]\n",
      "============\n",
      "boom sauce\n",
      "probability: 0.106526640841\n",
      "---\n",
      "[(u'aroma', 0.0036796140866315443), (u'brew', 0.0034339150543508459), (u'light', 0.002881934064116866), (u'see', 0.0025706243002519614), (u'time', 0.0024796246442201613)]\n",
      "============\n",
      "boom sauce\n",
      "probability: 0.0946128094153\n",
      "---\n",
      "[(u'little', 0.0076535695319588622), (u'bitterness', 0.0067082384178326245), (u'character', 0.0053778656717797003), (u'flavour', 0.0050577612993526902), (u'though', 0.0048262271158057016)]\n",
      "============\n",
      "boom sauce\n",
      "probability: 0.0758147304897\n",
      "---\n",
      "[(u'great', 0.011683925104252221), (u'nice', 0.0083520966000093354), (u'head', 0.0055946200345227855), (u'big', 0.0050587525068146906), (u'balanced', 0.0049008093628144745)]\n",
      "============\n",
      "boom sauce\n",
      "probability: 0.0752389470154\n",
      "---\n",
      "[(u'pine', 0.037125106673414676), (u'grapefruit', 0.035858960120072496), (u'citrus', 0.031797088477910386), (u'hops', 0.022313345459487065), (u'bitter', 0.021687163770594205)]\n",
      "============\n",
      "boom sauce\n",
      "probability: 0.0610584559687\n",
      "---\n",
      "[(u'bottle', 0.022911812730083254), (u'aroma', 0.018689064314781012), (u'buddy', 0.018317389206863745), (u'&#045;&#045;-rated', 0.017868285304643416), (u'iphone', 0.01775380075162402)]\n",
      "============\n",
      "boom sauce\n",
      "probability: 0.0487464765817\n",
      "---\n",
      "[(u'orange', 0.15775002524559859), (u'hazy', 0.027037672316551044), (u'citrus', 0.02694587799735489), (u'white', 0.025629668770209245), (u'peel', 0.021280759743410645)]\n",
      "============\n",
      "boom sauce\n",
      "probability: 0.0420926672397\n",
      "---\n",
      "[(u'sweet', 0.0089312753667533506), (u'weird', 0.0075331675655722205), (u'smells', 0.007350843071399501), (u'interesting', 0.0062618700350888868), (u'aroma', 0.0060045803194838264)]\n",
      "============\n",
      "boom sauce\n",
      "probability: 0.0398444428002\n",
      "---\n",
      "[(u'amber', 0.061112212631934018), (u'caramel', 0.050649362115894728), (u'head', 0.026103992390051529), (u'hops', 0.021000276812486066), (u'malt', 0.020486081016658247)]\n",
      "============\n"
     ]
    }
   ],
   "source": [
    "print \"boom sauce\"\n",
    "for topic, prob in sorted(lda[corpus[278947]], key = lambda x:x[1], reverse=True)[:10]:\n",
    "    print \"probability:\", prob\n",
    "    print \"---\"\n",
    "    print filter(lambda x:x[0] not in custom_stopwords, map(lambda x:(beerwords[x[0]], x[1]),lda.get_topic_terms(topic, topn=100)))[:5]\n",
    "    print \"============\""
   ]
  },
  {
   "cell_type": "code",
   "execution_count": 44,
   "metadata": {
    "collapsed": false
   },
   "outputs": [
    {
     "name": "stderr",
     "output_type": "stream",
     "text": [
      "WARNING:gensim.similarities.docsim:scanning corpus to determine the number of features (consider setting `num_features` explicitly)\n"
     ]
    }
   ],
   "source": [
    "index = similarities.MatrixSimilarity(lda[corpus])"
   ]
  },
  {
   "cell_type": "code",
   "execution_count": 46,
   "metadata": {
    "collapsed": false
   },
   "outputs": [],
   "source": [
    "cur.execute(\"select rbid from brewery where region LIKE '%massachusetts%'\")\n",
    "ma_brew = zip(*cur.fetchall())[0]\n",
    "kernel_estout = lda[corpus[85472]]\n",
    "like_kernel = sorted(list(enumerate(index[kernel_estout])), key = lambda x:x[1], reverse=True)"
   ]
  },
  {
   "cell_type": "code",
   "execution_count": 47,
   "metadata": {
    "collapsed": false
   },
   "outputs": [
    {
     "name": "stdout",
     "output_type": "stream",
     "text": [
      "Paper City Fogbuster Coffee House Ale 120969 0.807707\n",
      "Pioneer Extra Foreign Stout  128308 0.681164\n",
      "Honest Town Capall Dorche Stout 117970 0.674146\n",
      "Peoples Pint Imperial Stout 18577 0.659813\n",
      "Mayflower Imperial Stout 137861 0.651553\n",
      "Element Dark Element 152544 0.617399\n"
     ]
    }
   ],
   "source": [
    "hits = 0\n",
    "for corpus_id, score in like_kernel:\n",
    "    if corpus2ratebeer[corpus_id][3] > 4 and corpus2ratebeer[corpus_id][2] in ma_brew:\n",
    "        print corpus2ratebeer[corpus_id][1], corpus2ratebeer[corpus_id][0], score\n",
    "        hits += 1\n",
    "        if hits > 5:\n",
    "            break"
   ]
  },
  {
   "cell_type": "code",
   "execution_count": 48,
   "metadata": {
    "collapsed": true
   },
   "outputs": [],
   "source": [
    "boom_sauce = lda[corpus[278947]]\n",
    "cur.execute(\"select rbid from brewery where region LIKE '%london%'\")\n",
    "lon_brew = zip(*cur.fetchall())[0]\n",
    "like_boom = sorted(list(enumerate(index[boom_sauce])), key = lambda x:x[1], reverse=True)"
   ]
  },
  {
   "cell_type": "code",
   "execution_count": 50,
   "metadata": {
    "collapsed": false
   },
   "outputs": [
    {
     "name": "stdout",
     "output_type": "stream",
     "text": [
      "Blue Hills Quarter Mile Double IPA 240883 0.886521\n",
      "Paper City Blonde Hop Monster 25768 0.871222\n",
      "Mayflower 5th Anniversary Ale 198734 0.868589\n",
      "Z Street IPA 13913 0.860862\n",
      "Harpoon Leviathan Imperial Red Ale 114001 0.85514\n",
      "Harpoon Leviathan Imperial IPA 92922 0.853753\n"
     ]
    }
   ],
   "source": [
    "hits = 0\n",
    "for corpus_id, score in like_boom:\n",
    "    if corpus2ratebeer[corpus_id][3] > 4 and corpus2ratebeer[corpus_id][2] in ma_brew:\n",
    "        print corpus2ratebeer[corpus_id][1], corpus2ratebeer[corpus_id][0], score\n",
    "        hits += 1\n",
    "        if hits > 5:\n",
    "            break"
   ]
  },
  {
   "cell_type": "code",
   "execution_count": null,
   "metadata": {
    "collapsed": true
   },
   "outputs": [],
   "source": []
  }
 ],
 "metadata": {
  "kernelspec": {
   "display_name": "Python 2",
   "language": "python",
   "name": "python2"
  },
  "language_info": {
   "codemirror_mode": {
    "name": "ipython",
    "version": 2
   },
   "file_extension": ".py",
   "mimetype": "text/x-python",
   "name": "python",
   "nbconvert_exporter": "python",
   "pygments_lexer": "ipython2",
   "version": "2.7.8"
  }
 },
 "nbformat": 4,
 "nbformat_minor": 0
}
